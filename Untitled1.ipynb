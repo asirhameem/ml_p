{
 "cells": [
  {
   "cell_type": "code",
   "execution_count": 1,
   "metadata": {},
   "outputs": [],
   "source": [
    "import pandas as pd\n",
    "import csv \n",
    "from glob import glob\n",
    "\n",
    "prec1 = pd.read_csv('Prec01.csv');\n",
    "prec2 = pd.read_csv('Prec02.csv');"
   ]
  },
  {
   "cell_type": "code",
   "execution_count": 2,
   "metadata": {},
   "outputs": [
    {
     "data": {
      "text/plain": [
       "['Prec01.csv',\n",
       " 'Prec02.csv',\n",
       " 'Prec03.csv',\n",
       " 'Prec04.csv',\n",
       " 'Prec05.csv',\n",
       " 'Prec06.csv',\n",
       " 'Prec07.csv',\n",
       " 'Prec08.csv',\n",
       " 'Prec09.csv',\n",
       " 'Prec10.csv',\n",
       " 'Prec11.csv',\n",
       " 'Prec12.csv',\n",
       " 'Prec13.csv',\n",
       " 'Prec14.csv',\n",
       " 'Prec15.csv',\n",
       " 'Prec16.csv',\n",
       " 'Prec17.csv',\n",
       " 'Prec18.csv',\n",
       " 'Prec19.csv',\n",
       " 'Prec20.csv',\n",
       " 'Prec21.csv',\n",
       " 'Prec22.csv',\n",
       " 'Prec23.csv',\n",
       " 'Prec24.csv',\n",
       " 'Prec25.csv',\n",
       " 'Prec26.csv',\n",
       " 'Prec27.csv',\n",
       " 'Prec28.csv',\n",
       " 'Prec29.csv',\n",
       " 'Prec30.csv',\n",
       " 'Prec31.csv',\n",
       " 'Prec32.csv',\n",
       " 'Prec33.csv',\n",
       " 'Prec34.csv',\n",
       " 'Prec35.csv',\n",
       " 'Prec36.csv',\n",
       " 'Prec37.csv',\n",
       " 'Prec38.csv',\n",
       " 'Prec39.csv',\n",
       " 'Prec40.csv',\n",
       " 'Prec41.csv',\n",
       " 'Prec42.csv',\n",
       " 'Prec43.csv',\n",
       " 'Prec44.csv',\n",
       " 'Prec45.csv',\n",
       " 'Prec46.csv',\n",
       " 'Prec47.csv',\n",
       " 'Prec48.csv',\n",
       " 'Prec49.csv',\n",
       " 'Prec50.csv',\n",
       " 'Prec51.csv',\n",
       " 'Prec52.csv',\n",
       " 'Prec53.csv',\n",
       " 'Prec54.csv',\n",
       " 'Prec55.csv',\n",
       " 'Prec56.csv',\n",
       " 'Prec57.csv',\n",
       " 'Prec58.csv',\n",
       " 'Prec59.csv',\n",
       " 'Prec60.csv',\n",
       " 'Prec61.csv',\n",
       " 'Prec62.csv',\n",
       " 'Prec63.csv',\n",
       " 'Prec64.csv',\n",
       " 'Prec65.csv',\n",
       " 'Prec66.csv',\n",
       " 'Prec67.csv',\n",
       " 'Prec68.csv',\n",
       " 'Prec69.csv',\n",
       " 'Prec70.csv']"
      ]
     },
     "execution_count": 2,
     "metadata": {},
     "output_type": "execute_result"
    }
   ],
   "source": [
    "newrec = glob('Prec*.csv')\n",
    "newrec"
   ]
  },
  {
   "cell_type": "code",
   "execution_count": 9,
   "metadata": {},
   "outputs": [],
   "source": [
    "newFile = pd.concat((pd.read_csv(file)\n",
    "          for file in newrec), ignore_index = True)"
   ]
  },
  {
   "cell_type": "code",
   "execution_count": 10,
   "metadata": {},
   "outputs": [],
   "source": [
    "newFile.to_csv(r'TotalRecords.csv')"
   ]
  },
  {
   "cell_type": "code",
   "execution_count": null,
   "metadata": {},
   "outputs": [],
   "source": []
  }
 ],
 "metadata": {
  "kernelspec": {
   "display_name": "Python 3",
   "language": "python",
   "name": "python3"
  },
  "language_info": {
   "codemirror_mode": {
    "name": "ipython",
    "version": 3
   },
   "file_extension": ".py",
   "mimetype": "text/x-python",
   "name": "python",
   "nbconvert_exporter": "python",
   "pygments_lexer": "ipython3",
   "version": "3.8.5"
  }
 },
 "nbformat": 4,
 "nbformat_minor": 4
}
